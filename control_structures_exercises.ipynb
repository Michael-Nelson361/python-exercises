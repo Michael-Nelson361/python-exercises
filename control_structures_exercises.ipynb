{
 "cells": [
  {
   "cell_type": "markdown",
   "id": "1e269a5a",
   "metadata": {},
   "source": [
    "1. Conditional Basics"
   ]
  },
  {
   "cell_type": "markdown",
   "id": "1a19c180",
   "metadata": {},
   "source": [
    "    a. Prompt the user for a day of the week, print out whether the day is Monday or not"
   ]
  },
  {
   "cell_type": "code",
   "execution_count": 8,
   "id": "b6203728",
   "metadata": {},
   "outputs": [
    {
     "name": "stdout",
     "output_type": "stream",
     "text": [
      "What day of the week is it? saturday\n",
      "It is NOT Monday!\n"
     ]
    }
   ],
   "source": [
    "# Get the user input for what the day is\n",
    "day_prompt = input('What day of the week is it? ').title()\n",
    "\n",
    "# Print out if it's Monday or not\n",
    "if day_prompt == 'Monday':\n",
    "    print('It is Monday!')\n",
    "else:\n",
    "    print('It is NOT Monday!')\n"
   ]
  },
  {
   "cell_type": "markdown",
   "id": "18a195e7",
   "metadata": {},
   "source": [
    "    b. Prompt the user for a day of the week, print out whether the day is a weekday or a weekend"
   ]
  },
  {
   "cell_type": "code",
   "execution_count": 11,
   "id": "1a4f8349",
   "metadata": {},
   "outputs": [
    {
     "name": "stdout",
     "output_type": "stream",
     "text": [
      "What day of the week is it? monday\n",
      "It's a weekday...\n"
     ]
    }
   ],
   "source": [
    "# Get user input for the day of the week\n",
    "day_prompt = input('What day of the week is it? ').title()\n",
    "\n",
    "# Print out if weekday or weekend\n",
    "if day_prompt in ['Friday','Saturday','Sunday']:\n",
    "    print('It\\'s the weekend!')\n",
    "else:\n",
    "    print('It\\'s a weekday...')"
   ]
  },
  {
   "cell_type": "markdown",
   "id": "2d5f15a1",
   "metadata": {},
   "source": [
    "    c. Calculate a weekly paycheck, accounting for overtime pay. Create variables and make up values for:\n",
    "    \n",
    "        - The number of hours worked in one week\n",
    "        - The hourly rate\n",
    "        \n",
    "        For calculating pay:\n",
    "\n",
    "        - For working 40 hours or less, each hour is paid at the hourly rate\n",
    "        - For working more than 40 hours\n",
    "\n",
    "            - the first 40 hours are paid at the hourly rate\n",
    "            - each hour after 40 is paid at time and a half (hourly rate * 1.5)"
   ]
  },
  {
   "cell_type": "code",
   "execution_count": 28,
   "id": "961055ea",
   "metadata": {},
   "outputs": [
    {
     "name": "stdout",
     "output_type": "stream",
     "text": [
      "Weekly pay: $520\n"
     ]
    }
   ],
   "source": [
    "# establish variables\n",
    "num_hours = 40\n",
    "hourly_rate = 13\n",
    "\n",
    "# Calculate weekly pay\n",
    "if num_hours <= 40:\n",
    "    net_pay = num_hours * hourly_rate\n",
    "else:\n",
    "    net_pay = 40 * hourly_rate\n",
    "    net_pay += (num_hours%40)*(hourly_rate*1.5)\n",
    "\n",
    "print(f\"Weekly pay: ${net_pay}\")"
   ]
  },
  {
   "cell_type": "markdown",
   "id": "8b7031a4",
   "metadata": {},
   "source": [
    "2. Loop Basics\n",
    "\n",
    "    a. While"
   ]
  },
  {
   "cell_type": "markdown",
   "id": "71e69776",
   "metadata": {},
   "source": [
    "        i. Create an integer variable i with a value of 5. Create a while loop that runs so long as i is less \n",
    "        than or equal to 15. Each loop iteration, output the current value of i, then increment i by one."
   ]
  },
  {
   "cell_type": "code",
   "execution_count": 30,
   "id": "32ad0548",
   "metadata": {},
   "outputs": [
    {
     "name": "stdout",
     "output_type": "stream",
     "text": [
      "5\n",
      "6\n",
      "7\n",
      "8\n",
      "9\n",
      "10\n",
      "11\n",
      "12\n",
      "13\n",
      "14\n",
      "15\n"
     ]
    }
   ],
   "source": [
    "i = 5\n",
    "while i <= 15:\n",
    "    print(i)\n",
    "    i+=1"
   ]
  },
  {
   "cell_type": "markdown",
   "id": "2dcb7e39",
   "metadata": {},
   "source": [
    "        1. Create a while loop that will count by 2's starting with 0 and ending at 100. Follow each number with a new line."
   ]
  },
  {
   "cell_type": "code",
   "execution_count": 31,
   "id": "53dc501a",
   "metadata": {},
   "outputs": [
    {
     "name": "stdout",
     "output_type": "stream",
     "text": [
      "0\n",
      "2\n",
      "4\n",
      "6\n",
      "8\n",
      "10\n",
      "12\n",
      "14\n",
      "16\n",
      "18\n",
      "20\n",
      "22\n",
      "24\n",
      "26\n",
      "28\n",
      "30\n",
      "32\n",
      "34\n",
      "36\n",
      "38\n",
      "40\n",
      "42\n",
      "44\n",
      "46\n",
      "48\n",
      "50\n",
      "52\n",
      "54\n",
      "56\n",
      "58\n",
      "60\n",
      "62\n",
      "64\n",
      "66\n",
      "68\n",
      "70\n",
      "72\n",
      "74\n",
      "76\n",
      "78\n",
      "80\n",
      "82\n",
      "84\n",
      "86\n",
      "88\n",
      "90\n",
      "92\n",
      "94\n",
      "96\n",
      "98\n",
      "100\n"
     ]
    }
   ],
   "source": [
    "i = 0\n",
    "\n",
    "while i <= 100:\n",
    "    print(i)\n",
    "    i+=2"
   ]
  },
  {
   "cell_type": "markdown",
   "id": "de182dad",
   "metadata": {},
   "source": [
    "        2. Create a while loop that starts at 2, and displays the number squared on each line while the number \n",
    "        is less than 1,000,000. "
   ]
  },
  {
   "cell_type": "code",
   "execution_count": 32,
   "id": "8cf41a5f",
   "metadata": {},
   "outputs": [
    {
     "name": "stdout",
     "output_type": "stream",
     "text": [
      "2\n",
      "4\n",
      "16\n",
      "256\n",
      "65536\n"
     ]
    }
   ],
   "source": [
    "i = 2\n",
    "while i < 1000000:\n",
    "    print(i)\n",
    "    i **= 2"
   ]
  },
  {
   "cell_type": "markdown",
   "id": "44729e13",
   "metadata": {},
   "source": [
    "        3. Write a while loop that uses the print to create the output shown below:\n",
    "> 100\n",
    ">\n",
    "> 95\n",
    ">\n",
    "> 90\n",
    ">\n",
    "> 85\n",
    ">\n",
    "> 80\n",
    ">\n",
    "> ...\n",
    ">\n",
    "> 5"
   ]
  },
  {
   "cell_type": "code",
   "execution_count": 33,
   "id": "6161817d",
   "metadata": {},
   "outputs": [
    {
     "name": "stdout",
     "output_type": "stream",
     "text": [
      "100\n",
      "95\n",
      "90\n",
      "85\n",
      "80\n",
      "75\n",
      "70\n",
      "65\n",
      "60\n",
      "55\n",
      "50\n",
      "45\n",
      "40\n",
      "35\n",
      "30\n",
      "25\n",
      "20\n",
      "15\n",
      "10\n",
      "5\n"
     ]
    }
   ],
   "source": [
    "i = 100\n",
    "while i > 0:\n",
    "    print(i)\n",
    "    i -= 5"
   ]
  },
  {
   "cell_type": "markdown",
   "id": "94756b54",
   "metadata": {},
   "source": [
    "    b. For Loops"
   ]
  },
  {
   "cell_type": "markdown",
   "id": "8fd6c616",
   "metadata": {},
   "source": [
    "        i. Write some code using a for loop that prompts the user for a number, then shows a \n",
    "        multiplication table up through 10 for that number."
   ]
  },
  {
   "cell_type": "code",
   "execution_count": 40,
   "id": "a0284d2d",
   "metadata": {},
   "outputs": [
    {
     "name": "stdout",
     "output_type": "stream",
     "text": [
      "Give me a number!\n",
      "5\n",
      "5 x 1 = 5\n",
      "5 x 2 = 10\n",
      "5 x 3 = 15\n",
      "5 x 4 = 20\n",
      "5 x 5 = 25\n",
      "5 x 6 = 30\n",
      "5 x 7 = 35\n",
      "5 x 8 = 40\n",
      "5 x 9 = 45\n",
      "5 x 10 = 50\n"
     ]
    }
   ],
   "source": [
    "# Prompt user for a number\n",
    "num_input = int(input('Give me a number!\\n'))\n",
    "\n",
    "# Print out the times tables from 1 to 10 based on user input\n",
    "for i in range(10):\n",
    "    print(f\"{num_input} x {i+1} = {num_input * (i+1)}\")"
   ]
  },
  {
   "cell_type": "markdown",
   "id": "b1373f6e",
   "metadata": {},
   "source": [
    "        ii. Create a for loop that uses print to create the output shown below.\n",
    "> 1\n",
    ">\n",
    "> 22\n",
    ">\n",
    "> 333\n",
    ">\n",
    "> 4444\n",
    ">\n",
    "> 55555\n",
    ">\n",
    "> 666666\n",
    ">\n",
    "> 7777777\n",
    ">\n",
    "> 88888888\n",
    ">\n",
    "> 999999999"
   ]
  },
  {
   "cell_type": "code",
   "execution_count": 44,
   "id": "ab8705a2",
   "metadata": {},
   "outputs": [
    {
     "name": "stdout",
     "output_type": "stream",
     "text": [
      "\n",
      "1\n",
      "22\n",
      "333\n",
      "4444\n",
      "55555\n",
      "666666\n",
      "7777777\n",
      "88888888\n",
      "999999999\n"
     ]
    }
   ],
   "source": [
    "for i in range(10):\n",
    "    print(str(i) * i)"
   ]
  },
  {
   "cell_type": "markdown",
   "id": "90abc75d",
   "metadata": {},
   "source": [
    "    c. break and continue"
   ]
  },
  {
   "cell_type": "markdown",
   "id": "e596e5da",
   "metadata": {},
   "source": [
    "        i. Write a program that prompts the user for a positive integer. Next write a loop that prints out \n",
    "        the numbers from the number the user entered down to 1."
   ]
  },
  {
   "cell_type": "code",
   "execution_count": 51,
   "id": "79ea1deb",
   "metadata": {},
   "outputs": [
    {
     "name": "stdout",
     "output_type": "stream",
     "text": [
      "Give me a positive integer!7\n",
      "7\n",
      "6\n",
      "5\n",
      "4\n",
      "3\n",
      "2\n",
      "1\n"
     ]
    }
   ],
   "source": [
    "# Get a positive integer from the user\n",
    "int_input = int(input('Give me a positive integer!\\n'))\n",
    "\n",
    "# Iterate down to 1\n",
    "while True:\n",
    "    if int_input > 0:\n",
    "        print(int_input)\n",
    "        int_input-=1\n",
    "    else:\n",
    "        break"
   ]
  },
  {
   "cell_type": "markdown",
   "id": "28cc0263",
   "metadata": {},
   "source": [
    "        ii. The `input` function can be used to prompt for input and use that input in your python code. \n",
    "        Prompt the user to enter a positive number and write a loop that counts from 0 to that number. \n",
    "        (Hints: note that the `input` function returns a string, so you'll need to convert this to a \n",
    "        numeric type.)"
   ]
  },
  {
   "cell_type": "code",
   "execution_count": 52,
   "id": "b772763f",
   "metadata": {},
   "outputs": [
    {
     "name": "stdout",
     "output_type": "stream",
     "text": [
      "Give me a positive number!\n",
      "7\n",
      "0\n",
      "1\n",
      "2\n",
      "3\n",
      "4\n",
      "5\n",
      "6\n",
      "7\n"
     ]
    }
   ],
   "source": [
    "# Ask user for positive number\n",
    "num_input = int(input(\"Give me a positive number!\\n\"))\n",
    "\n",
    "for i in range(num_input+1):\n",
    "    print(i)\n",
    "    i+=0"
   ]
  },
  {
   "cell_type": "markdown",
   "id": "573d621e",
   "metadata": {},
   "source": [
    "        iii. Prompt the user for an odd number between 1 and 50. Use a loop and a `break` statement to \n",
    "        continue prompting the user if they enter invalid input. (Hint: use the `isdigit` method on strings \n",
    "        to determine this). Use a loop and the `continue` statement to output all the odd numbers between \n",
    "        1 and 50, except for the number the user entered.\n",
    "    \n",
    "    Your output should look like this:\n",
    "    \n",
    "    ```\n",
    "    Number to skip is: 27\n",
    "    \n",
    "    Here is an odd number: 1\n",
    "    Here is an odd number: 3\n",
    "    Here is an odd number: 5\n",
    "    Here is an odd number: 7\n",
    "    Here is an odd number: 9\n",
    "    Here is an odd number: 11\n",
    "    Here is an odd number: 13\n",
    "    Here is an odd number: 15\n",
    "    Here is an odd number: 17\n",
    "    Here is an odd number: 19\n",
    "    Here is an odd number: 21\n",
    "    Here is an odd number: 23\n",
    "    Here is an odd number: 25\n",
    "    Yikes! Skipping number: 27\n",
    "    Here is an odd number: 29\n",
    "    Here is an odd number: 31\n",
    "    Here is an odd number: 33\n",
    "    Here is an odd number: 35\n",
    "    Here is an odd number: 37\n",
    "    Here is an odd number: 39\n",
    "    Here is an odd number: 41\n",
    "    Here is an odd number: 43\n",
    "    Here is an odd number: 45\n",
    "    Here is an odd number: 47\n",
    "    Here is an odd number: 49\n",
    "    \n",
    "    ```"
   ]
  },
  {
   "cell_type": "code",
   "execution_count": 60,
   "id": "b0a1d4a8",
   "metadata": {},
   "outputs": [
    {
     "name": "stdout",
     "output_type": "stream",
     "text": [
      "Please enter an odd number between 1 and 50: 60\n",
      "Out of range. Please try again\n",
      "Please enter an odd number between 1 and 50: 50\n",
      "Not an odd number. Please try again.\n",
      "Please enter an odd number between 1 and 50: 49\n",
      "Here is an odd number: 1\n",
      "Here is an odd number: 3\n",
      "Here is an odd number: 5\n",
      "Here is an odd number: 7\n",
      "Here is an odd number: 9\n",
      "Here is an odd number: 11\n",
      "Here is an odd number: 13\n",
      "Here is an odd number: 15\n",
      "Here is an odd number: 17\n",
      "Here is an odd number: 19\n",
      "Here is an odd number: 21\n",
      "Here is an odd number: 23\n",
      "Here is an odd number: 25\n",
      "Here is an odd number: 27\n",
      "Here is an odd number: 29\n",
      "Here is an odd number: 31\n",
      "Here is an odd number: 33\n",
      "Here is an odd number: 35\n",
      "Here is an odd number: 37\n",
      "Here is an odd number: 39\n",
      "Here is an odd number: 41\n",
      "Here is an odd number: 43\n",
      "Here is an odd number: 45\n",
      "Here is an odd number: 47\n",
      "Yikes! Skipping number: 49\n"
     ]
    }
   ],
   "source": [
    "# Continue prompting for proper input\n",
    "while True:\n",
    "    user_input = input('Please enter an odd number between 1 and 50: ')\n",
    "    \n",
    "    # Conditions to test valid input\n",
    "    if user_input.isdigit() == False:\n",
    "        print('Not a number. Please try again.')\n",
    "        continue\n",
    "    elif int(user_input) > 50:\n",
    "        print('Out of range. Please try again')\n",
    "        continue\n",
    "    elif int(user_input) % 2 == 0:\n",
    "        print('Not an odd number. Please try again.')\n",
    "        continue\n",
    "    else:\n",
    "        \n",
    "        # Loop through 50 to list odd numbers\n",
    "        for i in range(50):\n",
    "            if i == int(user_input):\n",
    "                print(f'Yikes! Skipping number: {i}')\n",
    "            elif i%2==0:\n",
    "                continue\n",
    "            else:\n",
    "                print(f'Here is an odd number: {i}')\n",
    "        break"
   ]
  },
  {
   "cell_type": "markdown",
   "id": "e10f0d4a",
   "metadata": {},
   "source": [
    "3. Fizzbuzz\n",
    "\n",
    "    One of the most common interview questions for entry-level programmers is the FizzBuzz test. \n",
    "    Developed by Imran Ghory, the test is designed to test basic looping and conditional logic skills.\n",
    "\n",
    "    - Write a program that prints the numbers from 1 to 100.\n",
    "    - For multiples of three print \"Fizz\" instead of the number\n",
    "    - For the multiples of five print \"Buzz\".\n",
    "    - For numbers which are multiples of both three and five print \"FizzBuzz\"."
   ]
  },
  {
   "cell_type": "code",
   "execution_count": 64,
   "id": "565884ff",
   "metadata": {},
   "outputs": [
    {
     "name": "stdout",
     "output_type": "stream",
     "text": [
      "1\n",
      "2\n",
      "Fizz\n",
      "4\n",
      "Buzz\n",
      "Fizz\n",
      "7\n",
      "8\n",
      "Fizz\n",
      "Buzz\n",
      "11\n",
      "Fizz\n",
      "13\n",
      "14\n",
      "FizzBuzz\n",
      "16\n",
      "17\n",
      "Fizz\n",
      "19\n",
      "Buzz\n",
      "Fizz\n",
      "22\n",
      "23\n",
      "Fizz\n",
      "Buzz\n",
      "26\n",
      "Fizz\n",
      "28\n",
      "29\n",
      "FizzBuzz\n",
      "31\n",
      "32\n",
      "Fizz\n",
      "34\n",
      "Buzz\n",
      "Fizz\n",
      "37\n",
      "38\n",
      "Fizz\n",
      "Buzz\n",
      "41\n",
      "Fizz\n",
      "43\n",
      "44\n",
      "FizzBuzz\n",
      "46\n",
      "47\n",
      "Fizz\n",
      "49\n",
      "Buzz\n",
      "Fizz\n",
      "52\n",
      "53\n",
      "Fizz\n",
      "Buzz\n",
      "56\n",
      "Fizz\n",
      "58\n",
      "59\n",
      "FizzBuzz\n",
      "61\n",
      "62\n",
      "Fizz\n",
      "64\n",
      "Buzz\n",
      "Fizz\n",
      "67\n",
      "68\n",
      "Fizz\n",
      "Buzz\n",
      "71\n",
      "Fizz\n",
      "73\n",
      "74\n",
      "FizzBuzz\n",
      "76\n",
      "77\n",
      "Fizz\n",
      "79\n",
      "Buzz\n",
      "Fizz\n",
      "82\n",
      "83\n",
      "Fizz\n",
      "Buzz\n",
      "86\n",
      "Fizz\n",
      "88\n",
      "89\n",
      "FizzBuzz\n",
      "91\n",
      "92\n",
      "Fizz\n",
      "94\n",
      "Buzz\n",
      "Fizz\n",
      "97\n",
      "98\n",
      "Fizz\n"
     ]
    }
   ],
   "source": [
    "for i in range(1,100):\n",
    "    if i%3==0 and i%5==0:\n",
    "        print('FizzBuzz')\n",
    "    elif i%3==0:\n",
    "        print('Fizz')\n",
    "    elif i%5==0:\n",
    "        print('Buzz')\n",
    "    else:\n",
    "        print(i)"
   ]
  },
  {
   "cell_type": "markdown",
   "id": "c626a217",
   "metadata": {},
   "source": [
    "4. Display a table of powers.\n",
    "    - Prompt the user to enter an integer\n",
    "    - Display a table of squares and cubes from 1 to the value entered\n",
    "    - Ask if the user wants to continue\n",
    "    - Assume that the user will enter valid data\n",
    "    - Only continue if the user agrees to"
   ]
  },
  {
   "cell_type": "code",
   "execution_count": 80,
   "id": "0995586d",
   "metadata": {},
   "outputs": [
    {
     "name": "stdout",
     "output_type": "stream",
     "text": [
      "Please enter an integer: 2\n",
      "Number\tSquared\tCubed\n",
      "1\t1\t1\n",
      "2\t4\t8\n",
      "Continue[Y/N]: y\n",
      "Please enter an integer: 2\n",
      "Number\tSquared\tCubed\n",
      "1\t1\t1\n",
      "2\t4\t8\n",
      "Continue[Y/N]: yes\n",
      "Please enter an integer: 2\n",
      "Number\tSquared\tCubed\n",
      "1\t1\t1\n",
      "2\t4\t8\n",
      "Continue[Y/N]: no\n"
     ]
    }
   ],
   "source": [
    "# Loop until user says stop\n",
    "while True:\n",
    "    # Get an integer from the user\n",
    "    num_input = int(input('Please enter an integer: '))\n",
    "    \n",
    "    print('Number\\tSquared\\tCubed')\n",
    "    for i in range(1,num_input+1):\n",
    "        print(i,end='\\t')\n",
    "        print(i**2,end='\\t')\n",
    "        print(i**3)\n",
    "        \n",
    "    \n",
    "    # Prompt to exit or continue\n",
    "    user_prompt = input('Continue[Y/N]: ')\n",
    "    if user_prompt.startswith('y') or user_prompt.startswith('Y'):\n",
    "        continue\n",
    "    else:\n",
    "        break"
   ]
  },
  {
   "cell_type": "markdown",
   "id": "8ce21706",
   "metadata": {},
   "source": [
    "5. Convert given number grades into letter grades.\n",
    "    - Prompt the user for a numerical grade from 0 to 100\n",
    "    - Display the corresponding letter grade\n",
    "    - Prompt the user to continue\n",
    "    - Assume that the user will enter valid integers for the grades\n",
    "    - The application should only continue if the user agrees to\n",
    "    - Grade Ranges:\n",
    "        - A : 100 - 88\n",
    "        - B : 87 - 80\n",
    "        - C : 79 - 67\n",
    "        - D : 66 - 60\n",
    "        - F : 59 - 0"
   ]
  },
  {
   "cell_type": "code",
   "execution_count": null,
   "id": "e70ddcb3",
   "metadata": {},
   "outputs": [],
   "source": []
  },
  {
   "cell_type": "markdown",
   "id": "b9056b34",
   "metadata": {},
   "source": [
    "6. Create a list of dictionaries where each dictionary represents a book that you have read. Each dictionary in the list should have the keys `title`, `author`, and `genre`. Loop through the list and print out information about each book.\n",
    "    1. Prompt the user to enter a genre, then loop through your books list and print out the titles of all the books in that genre."
   ]
  },
  {
   "cell_type": "markdown",
   "id": "9a872337",
   "metadata": {},
   "source": [
    "### **Bonus Exercises**\n",
    "\n",
    "- For your Power of Tables exercise, research python's format string specifiers to align the table\n",
    "- For your Number Grade to Letter Grade exercise, edit your grade ranges to include pluses and minuses (ex: 99-100 = A+)\n",
    "- For practicing with list comprehensions, work through [17 List Comprehension Exercises](https://gist.github.com/ryanorsinger/f7d7c1dd6a328730c04f3dc5c5c69f3a)\n",
    "- For even more practice with all your Python tools together, work through [20 Python Data Structure Manipulation Exercises](https://gist.github.com/zgulde/2043cba6072fe5b55b272513ae575577)"
   ]
  }
 ],
 "metadata": {
  "kernelspec": {
   "display_name": "Python 3 (ipykernel)",
   "language": "python",
   "name": "python3"
  },
  "language_info": {
   "codemirror_mode": {
    "name": "ipython",
    "version": 3
   },
   "file_extension": ".py",
   "mimetype": "text/x-python",
   "name": "python",
   "nbconvert_exporter": "python",
   "pygments_lexer": "ipython3",
   "version": "3.11.5"
  }
 },
 "nbformat": 4,
 "nbformat_minor": 5
}
