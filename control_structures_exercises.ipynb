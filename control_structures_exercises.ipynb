{
 "cells": [
  {
   "cell_type": "markdown",
   "id": "1e269a5a",
   "metadata": {},
   "source": [
    "1. Conditional Basics"
   ]
  },
  {
   "cell_type": "markdown",
   "id": "1a19c180",
   "metadata": {},
   "source": [
    "    a. Prompt the user for a day of the week, print out whether the day is Monday or not"
   ]
  },
  {
   "cell_type": "markdown",
   "id": "18a195e7",
   "metadata": {},
   "source": [
    "    b. Prompt the user for a day of the week, print out whether the day is a weekday or a weekend"
   ]
  },
  {
   "cell_type": "markdown",
   "id": "2d5f15a1",
   "metadata": {},
   "source": [
    "    c. Calculate a weekly paycheck, accounting for overtime pay. Create variables and make up values for:\n",
    "    \n",
    "        - The number of hours worked in one week\n",
    "        - The hourly rate\n",
    "        \n",
    "        For calculating pay:\n",
    "\n",
    "        - For working 40 hours or less, each hour is paid at the hourly rate\n",
    "        - For working more than 40 hours\n",
    "\n",
    "            - the first 40 hours are paid at the hourly rate\n",
    "            - each hour after 40 is paid at time and a half (hourly rate * 1.5)"
   ]
  },
  {
   "cell_type": "markdown",
   "id": "8b7031a4",
   "metadata": {},
   "source": [
    "2. Loop Basics\n",
    "\n",
    "    a. While"
   ]
  },
  {
   "cell_type": "markdown",
   "id": "71e69776",
   "metadata": {},
   "source": [
    "        i. Create an integer variable i with a value of 5. Create a while loop that runs so long as i is less \n",
    "        than or equal to 15. Each loop iteration, output the current value of i, then increment i by one."
   ]
  },
  {
   "cell_type": "markdown",
   "id": "2dcb7e39",
   "metadata": {},
   "source": [
    "        1. Create a while loop that will count by 2's starting with 0 and ending at 100. Follow each number with a new line."
   ]
  },
  {
   "cell_type": "markdown",
   "id": "de182dad",
   "metadata": {},
   "source": [
    "        2. Create a while loop that starts at 2, and displays the number squared on each line while the number \n",
    "        is less than 1,000,000. "
   ]
  },
  {
   "cell_type": "markdown",
   "id": "44729e13",
   "metadata": {},
   "source": [
    "        3. Write a while loop that uses the print to create the output shown below:\n",
    "> 100\n",
    ">\n",
    "> 95\n",
    ">\n",
    "> 90\n",
    ">\n",
    "> 85\n",
    ">\n",
    "> 80\n",
    ">\n",
    "> ...\n",
    ">\n",
    "> 5"
   ]
  },
  {
   "cell_type": "markdown",
   "id": "94756b54",
   "metadata": {},
   "source": [
    "    b. For Loops"
   ]
  },
  {
   "cell_type": "markdown",
   "id": "8fd6c616",
   "metadata": {},
   "source": [
    "        i. Write some code using a for loop that prompts the user for a number, then shows a \n",
    "        multiplication table up through 10 for that number."
   ]
  },
  {
   "cell_type": "markdown",
   "id": "b1373f6e",
   "metadata": {},
   "source": [
    "        ii. Create a for loop that uses print to create the output shown below.\n",
    "> 1\n",
    ">\n",
    "> 22\n",
    ">\n",
    "> 333\n",
    ">\n",
    "> 4444\n",
    ">\n",
    "> 55555\n",
    ">\n",
    "> 666666\n",
    ">\n",
    "> 7777777\n",
    ">\n",
    "> 88888888\n",
    ">\n",
    "> 999999999"
   ]
  },
  {
   "cell_type": "markdown",
   "id": "90abc75d",
   "metadata": {},
   "source": [
    "    c. break and continue"
   ]
  },
  {
   "cell_type": "markdown",
   "id": "e596e5da",
   "metadata": {},
   "source": [
    "        i. Write a program that prompts the user for a positive integer. Next write a loop that prints out \n",
    "        the numbers from the number the user entered down to 1."
   ]
  },
  {
   "cell_type": "markdown",
   "id": "28cc0263",
   "metadata": {},
   "source": [
    "        ii. The `input` function can be used to prompt for input and use that input in your python code. \n",
    "        Prompt the user to enter a positive number and write a loop that counts from 0 to that number. \n",
    "        (Hints: note that the `input` function returns a string, so you'll need to convert this to a \n",
    "        numeric type.)"
   ]
  },
  {
   "cell_type": "markdown",
   "id": "573d621e",
   "metadata": {},
   "source": [
    "        iii. Prompt the user for an odd number between 1 and 50. Use a loop and a `break` statement to continue prompting the user if they enter invalid input. (Hint: use the `isdigit` method on strings to determine this). Use a loop and the `continue` statement to output all the odd numbers between 1 and 50, except for the number the user entered.\n",
    "    \n",
    "    Your output should look like this:\n",
    "    \n",
    "    ```\n",
    "    Number to skip is: 27\n",
    "    \n",
    "    Here is an odd number: 1\n",
    "    Here is an odd number: 3\n",
    "    Here is an odd number: 5\n",
    "    Here is an odd number: 7\n",
    "    Here is an odd number: 9\n",
    "    Here is an odd number: 11\n",
    "    Here is an odd number: 13\n",
    "    Here is an odd number: 15\n",
    "    Here is an odd number: 17\n",
    "    Here is an odd number: 19\n",
    "    Here is an odd number: 21\n",
    "    Here is an odd number: 23\n",
    "    Here is an odd number: 25\n",
    "    Yikes! Skipping number: 27\n",
    "    Here is an odd number: 29\n",
    "    Here is an odd number: 31\n",
    "    Here is an odd number: 33\n",
    "    Here is an odd number: 35\n",
    "    Here is an odd number: 37\n",
    "    Here is an odd number: 39\n",
    "    Here is an odd number: 41\n",
    "    Here is an odd number: 43\n",
    "    Here is an odd number: 45\n",
    "    Here is an odd number: 47\n",
    "    Here is an odd number: 49\n",
    "    \n",
    "    ```"
   ]
  },
  {
   "cell_type": "markdown",
   "id": "e10f0d4a",
   "metadata": {},
   "source": [
    "3. Fizzbuzz\n",
    "\n",
    "    One of the most common interview questions for entry-level programmers is the FizzBuzz test. \n",
    "    Developed by Imran Ghory, the test is designed to test basic looping and conditional logic skills.\n",
    "\n",
    "    - Write a program that prints the numbers from 1 to 100.\n",
    "    - For multiples of three print \"Fizz\" instead of the number\n",
    "    - For the multiples of five print \"Buzz\".\n",
    "    - For numbers which are multiples of both three and five print \"FizzBuzz\"."
   ]
  },
  {
   "cell_type": "markdown",
   "id": "c626a217",
   "metadata": {},
   "source": [
    "4. Display a table of powers.\n",
    "    - Prompt the user to enter an integer\n",
    "    - Display a table of squares and cubes from 1 to the value entered\n",
    "    - Ask if the user wants to continue\n",
    "    - Assume that the user will enter valid data\n",
    "    - Only continue if the user agrees to"
   ]
  },
  {
   "cell_type": "markdown",
   "id": "8ce21706",
   "metadata": {},
   "source": [
    "5. Convert given number grades into letter grades.\n",
    "    - Prompt the user for a numerical grade from 0 to 100\n",
    "    - Display the corresponding letter grade\n",
    "    - Prompt the user to continue\n",
    "    - Assume that the user will enter valid integers for the grades\n",
    "    - The application should only continue if the user agrees to\n",
    "    - Grade Ranges:\n",
    "        - A : 100 - 88\n",
    "        - B : 87 - 80\n",
    "        - C : 79 - 67\n",
    "        - D : 66 - 60\n",
    "        - F : 59 - 0"
   ]
  },
  {
   "cell_type": "markdown",
   "id": "b9056b34",
   "metadata": {},
   "source": [
    "6. Create a list of dictionaries where each dictionary represents a book that you have read. Each dictionary in the list should have the keys `title`, `author`, and `genre`. Loop through the list and print out information about each book.\n",
    "    1. Prompt the user to enter a genre, then loop through your books list and print out the titles of all the books in that genre."
   ]
  },
  {
   "cell_type": "markdown",
   "id": "9a872337",
   "metadata": {},
   "source": [
    "### **Bonus Exercises**\n",
    "\n",
    "- For your Power of Tables exercise, research python's format string specifiers to align the table\n",
    "- For your Number Grade to Letter Grade exercise, edit your grade ranges to include pluses and minuses (ex: 99-100 = A+)\n",
    "- For practicing with list comprehensions, work through [17 List Comprehension Exercises](https://gist.github.com/ryanorsinger/f7d7c1dd6a328730c04f3dc5c5c69f3a)\n",
    "- For even more practice with all your Python tools together, work through [20 Python Data Structure Manipulation Exercises](https://gist.github.com/zgulde/2043cba6072fe5b55b272513ae575577)"
   ]
  }
 ],
 "metadata": {
  "kernelspec": {
   "display_name": "Python 3 (ipykernel)",
   "language": "python",
   "name": "python3"
  },
  "language_info": {
   "codemirror_mode": {
    "name": "ipython",
    "version": 3
   },
   "file_extension": ".py",
   "mimetype": "text/x-python",
   "name": "python",
   "nbconvert_exporter": "python",
   "pygments_lexer": "ipython3",
   "version": "3.11.5"
  }
 },
 "nbformat": 4,
 "nbformat_minor": 5
}
