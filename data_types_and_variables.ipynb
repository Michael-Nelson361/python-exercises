{
 "cells": [
  {
   "cell_type": "markdown",
   "id": "1603cfe0",
   "metadata": {},
   "source": [
    "1. Identify the data type of the following values:\n",
    "- 99.9\n",
    "- \"False\"\n",
    "- False\n",
    "- '0'\n",
    "- 0\n",
    "- True\n",
    "- 'True'\n",
    "- [{}]\n",
    "- {'a': []}"
   ]
  },
  {
   "cell_type": "code",
   "execution_count": 42,
   "id": "ca00dc1c",
   "metadata": {},
   "outputs": [
    {
     "name": "stdout",
     "output_type": "stream",
     "text": [
      "<class 'float'>\n",
      "<class 'str'>\n",
      "<class 'bool'>\n",
      "<class 'str'>\n",
      "<class 'int'>\n",
      "<class 'bool'>\n",
      "<class 'str'>\n",
      "<class 'list'>\n",
      "<class 'dict'>\n"
     ]
    }
   ],
   "source": [
    "print(type(99.9)) # This will be a float\n",
    "print(type(\"False\")) # This should be a string\n",
    "print(type(False)) # Boolean\n",
    "print(type('0')) # String\n",
    "print(type(0)) # Integer\n",
    "print(type(True)) # Boolean\n",
    "print(type('True')) # String\n",
    "print(type([{}])) # List\n",
    "print(type({'a':[]})) # Dictionary"
   ]
  },
  {
   "cell_type": "markdown",
   "id": "b9e8bb03",
   "metadata": {},
   "source": [
    "2. What data type would best represent the following?\n",
    "- A term or phrase typed into a search box\n",
    "    - A: String\n",
    "    \n",
    "- Whether or not a user is logged in\n",
    "    - A: Boolean\n",
    "    \n",
    "- A discount amount to apply to a user's shopping cart\n",
    "    - A: Float\n",
    "    \n",
    "- Whether or not a coupon code is valid\n",
    "    - A: Boolean\n",
    "    \n",
    "- An email address typed into a registration form\n",
    "    - A: string\n",
    "    \n",
    "- The price of a product\n",
    "    - A: float\n",
    "    \n",
    "- The email addresses collected from a registration form\n",
    "    - A: tuple\n",
    "    \n",
    "- Information about applicants to Codeup's data science program\n",
    "    - A: Dictionary\n",
    "    "
   ]
  },
  {
   "cell_type": "markdown",
   "id": "373edf3e",
   "metadata": {},
   "source": [
    "3. For each of the following code blocks:\n",
    "- Read the expression and predict the evaluated results\n",
    "- Execute the expression in a Python REPL."
   ]
  },
  {
   "cell_type": "code",
   "execution_count": 43,
   "id": "58602994",
   "metadata": {},
   "outputs": [],
   "source": [
    "#I think this will make 3\n",
    "# '1' + 2 # Correction: outputs an error: can't concatenate strings and numbers"
   ]
  },
  {
   "cell_type": "code",
   "execution_count": 44,
   "id": "2a7362c3",
   "metadata": {},
   "outputs": [
    {
     "data": {
      "text/plain": [
       "2"
      ]
     },
     "execution_count": 44,
     "metadata": {},
     "output_type": "execute_result"
    }
   ],
   "source": [
    "# Outputs 2\n",
    "6 % 4   # Outputs 2"
   ]
  },
  {
   "cell_type": "code",
   "execution_count": 45,
   "id": "1c1371aa",
   "metadata": {},
   "outputs": [
    {
     "data": {
      "text/plain": [
       "int"
      ]
     },
     "execution_count": 45,
     "metadata": {},
     "output_type": "execute_result"
    }
   ],
   "source": [
    "# Outputs <class 'int'>\n",
    "type(6 % 4)     # Outputs <class 'int'>"
   ]
  },
  {
   "cell_type": "code",
   "execution_count": 46,
   "id": "4d402ea4",
   "metadata": {},
   "outputs": [
    {
     "data": {
      "text/plain": [
       "type"
      ]
     },
     "execution_count": 46,
     "metadata": {},
     "output_type": "execute_result"
    }
   ],
   "source": [
    "# I think this will output an error\n",
    "type(type(6 % 4)) # Actually outputs <class 'type'>"
   ]
  },
  {
   "cell_type": "code",
   "execution_count": 47,
   "id": "8ca31d73",
   "metadata": {},
   "outputs": [],
   "source": [
    "# Error\n",
    "# '3 + 4 is ' + 3 + 4     # Outputs an error"
   ]
  },
  {
   "cell_type": "code",
   "execution_count": 48,
   "id": "3cc90f75",
   "metadata": {},
   "outputs": [
    {
     "data": {
      "text/plain": [
       "False"
      ]
     },
     "execution_count": 48,
     "metadata": {},
     "output_type": "execute_result"
    }
   ],
   "source": [
    "# outputs false\n",
    "0 < 0       # Outputs false"
   ]
  },
  {
   "cell_type": "code",
   "execution_count": 49,
   "id": "00acc90c",
   "metadata": {},
   "outputs": [
    {
     "data": {
      "text/plain": [
       "False"
      ]
     },
     "execution_count": 49,
     "metadata": {},
     "output_type": "execute_result"
    }
   ],
   "source": [
    "# Outputs false\n",
    "'False' == False        # Outputs false"
   ]
  },
  {
   "cell_type": "code",
   "execution_count": 50,
   "id": "d54d6992",
   "metadata": {},
   "outputs": [
    {
     "data": {
      "text/plain": [
       "False"
      ]
     },
     "execution_count": 50,
     "metadata": {},
     "output_type": "execute_result"
    }
   ],
   "source": [
    "# Outputs false\n",
    "True == 'True'      # Outputs false"
   ]
  },
  {
   "cell_type": "code",
   "execution_count": 51,
   "id": "f81f3a3c",
   "metadata": {},
   "outputs": [
    {
     "data": {
      "text/plain": [
       "True"
      ]
     },
     "execution_count": 51,
     "metadata": {},
     "output_type": "execute_result"
    }
   ],
   "source": [
    "# Outputs true\n",
    "5 >= -5     # Outputs true"
   ]
  },
  {
   "cell_type": "code",
   "execution_count": 52,
   "id": "936ddfee",
   "metadata": {},
   "outputs": [
    {
     "data": {
      "text/plain": [
       "True"
      ]
     },
     "execution_count": 52,
     "metadata": {},
     "output_type": "execute_result"
    }
   ],
   "source": [
    "# Outputs True\n",
    "True or \"42\"        # Outputs true"
   ]
  },
  {
   "cell_type": "code",
   "execution_count": 53,
   "id": "4c378087",
   "metadata": {},
   "outputs": [
    {
     "data": {
      "text/plain": [
       "1"
      ]
     },
     "execution_count": 53,
     "metadata": {},
     "output_type": "execute_result"
    }
   ],
   "source": [
    "# Outputs 1\n",
    "6 % 5       # Outputs 1"
   ]
  },
  {
   "cell_type": "code",
   "execution_count": 54,
   "id": "e4cc19bd",
   "metadata": {},
   "outputs": [
    {
     "data": {
      "text/plain": [
       "False"
      ]
     },
     "execution_count": 54,
     "metadata": {},
     "output_type": "execute_result"
    }
   ],
   "source": [
    "# Outputs false\n",
    "5 < 4 and 1 == 1        # Outputs false"
   ]
  },
  {
   "cell_type": "code",
   "execution_count": 55,
   "id": "66785035",
   "metadata": {},
   "outputs": [
    {
     "data": {
      "text/plain": [
       "False"
      ]
     },
     "execution_count": 55,
     "metadata": {},
     "output_type": "execute_result"
    }
   ],
   "source": [
    "# Outputs false I think.\n",
    "'codeup' == 'codeup' and 'codeup' == 'Codeup'   # Outputs false"
   ]
  },
  {
   "cell_type": "code",
   "execution_count": 56,
   "id": "cef80225",
   "metadata": {},
   "outputs": [],
   "source": [
    "# Outputs error: invalid syntax\n",
    "# 4 >= 0 and 1 !== '1' # Outputs invalid syntax error"
   ]
  },
  {
   "cell_type": "code",
   "execution_count": 57,
   "id": "ab755c3f",
   "metadata": {},
   "outputs": [
    {
     "data": {
      "text/plain": [
       "True"
      ]
     },
     "execution_count": 57,
     "metadata": {},
     "output_type": "execute_result"
    }
   ],
   "source": [
    "# Outputs True\n",
    "6 % 3 == 0      # Outputs true"
   ]
  },
  {
   "cell_type": "code",
   "execution_count": 58,
   "id": "78366148",
   "metadata": {},
   "outputs": [
    {
     "data": {
      "text/plain": [
       "True"
      ]
     },
     "execution_count": 58,
     "metadata": {},
     "output_type": "execute_result"
    }
   ],
   "source": [
    "# Outputs True\n",
    "5 % 2 != 0      # Outputs true"
   ]
  },
  {
   "cell_type": "code",
   "execution_count": 59,
   "id": "57b9de45",
   "metadata": {},
   "outputs": [],
   "source": [
    "# Error adding the 2\n",
    "# [1] + 2     # TypeError"
   ]
  },
  {
   "cell_type": "code",
   "execution_count": 60,
   "id": "1115b573",
   "metadata": {},
   "outputs": [
    {
     "data": {
      "text/plain": [
       "[1, 2]"
      ]
     },
     "execution_count": 60,
     "metadata": {},
     "output_type": "execute_result"
    }
   ],
   "source": [
    "# List [1,2]\n",
    "[1] + [2]       # Outputs [1,2]"
   ]
  },
  {
   "cell_type": "code",
   "execution_count": 61,
   "id": "22b057a3",
   "metadata": {},
   "outputs": [
    {
     "data": {
      "text/plain": [
       "[1, 1]"
      ]
     },
     "execution_count": 61,
     "metadata": {},
     "output_type": "execute_result"
    }
   ],
   "source": [
    "# Error I think\n",
    "[1] * 2     # Outputs [1,1]"
   ]
  },
  {
   "cell_type": "code",
   "execution_count": 62,
   "id": "4c9189be",
   "metadata": {
    "scrolled": true
   },
   "outputs": [],
   "source": [
    "# Error I think\n",
    "# [1] * [2]       # Outputs type error"
   ]
  },
  {
   "cell_type": "code",
   "execution_count": 63,
   "id": "47d021c0",
   "metadata": {},
   "outputs": [
    {
     "data": {
      "text/plain": [
       "True"
      ]
     },
     "execution_count": 63,
     "metadata": {},
     "output_type": "execute_result"
    }
   ],
   "source": [
    "# Will be true\n",
    "[] + [] == []   # Outputs true"
   ]
  },
  {
   "cell_type": "code",
   "execution_count": 64,
   "id": "33360609",
   "metadata": {},
   "outputs": [],
   "source": [
    "# Will be {}\n",
    "# {} + {}     # Type error with unsupported operand"
   ]
  },
  {
   "cell_type": "markdown",
   "id": "fb2d4628",
   "metadata": {},
   "source": [
    "Describe the following scenario. You will need to create and assign variables and use operators."
   ]
  },
  {
   "cell_type": "markdown",
   "id": "50af09fd",
   "metadata": {},
   "source": [
    "4. You have rented some movies for your kids:\n",
    "\n",
    "- The Little Mermaid for 3 days\n",
    "- Brother Bear for 5 days\n",
    "- Hercules for 1 day\n",
    "\n",
    "If the daily fee to rent a movie is 3 dollars, how much will you have to pay?"
   ]
  },
  {
   "cell_type": "code",
   "execution_count": 65,
   "id": "6a9c572f",
   "metadata": {},
   "outputs": [
    {
     "name": "stdout",
     "output_type": "stream",
     "text": [
      "Rental fee: $27\n"
     ]
    }
   ],
   "source": [
    "# Initiate the variables needed for program\n",
    "rentals = {\n",
    "    'The Little Mermaid':3\n",
    "    ,'Brother Bear':5\n",
    "    ,'Hercules':1\n",
    "}\n",
    "count = 0\n",
    "\n",
    "for i in rentals:\n",
    "    count += rentals.get(i) * 3\n",
    "\n",
    "print(\"Rental fee: $\"+str(count))"
   ]
  },
  {
   "cell_type": "markdown",
   "id": "ff4ec0b6",
   "metadata": {},
   "source": [
    "5. Suppose you're working as a contractor for 3 companies: Google, Amazon and Facebook.\n",
    "\n",
    "They pay you the following hourly rates:\n",
    "\n",
    "- Google: 400 dollars\n",
    "- Amazon: 380 dollars\n",
    "- Facebook: 350 dollars\n",
    "\n",
    "This week you worked: 10 hours for Facebook, 6 hours for Google, and 4 hours for Amazon.\n",
    "\n",
    "How much will you receive in payment for this week?"
   ]
  },
  {
   "cell_type": "code",
   "execution_count": 66,
   "id": "c891021f",
   "metadata": {},
   "outputs": [
    {
     "name": "stdout",
     "output_type": "stream",
     "text": [
      "Gross pay for the week: $7420\n"
     ]
    }
   ],
   "source": [
    "# Initiate the variables\n",
    "hourly_rate = {\n",
    "    'Google':400\n",
    "    ,'Amazon':380\n",
    "    ,'Facebook':350\n",
    "}\n",
    "\n",
    "hours_worked = {\n",
    "    'Facebook':10\n",
    "    ,'Google':6\n",
    "    ,'Amazon':4\n",
    "}\n",
    "gross_pay = 0\n",
    "\n",
    "# Calculate the gross pay for the week\n",
    "for i in hours_worked:\n",
    "    # print(i)\n",
    "    #print(i,hours_worked.get(i))\n",
    "    gross_pay += hourly_rate.get(i) * hours_worked.get(i)\n",
    "\n",
    "print(\"Gross pay for the week: $\",gross_pay,sep='')"
   ]
  },
  {
   "cell_type": "markdown",
   "id": "f7968689",
   "metadata": {},
   "source": [
    "6. A student can be enrolled in a class only if the class is not full and the class schedule does not conflict with her current schedule."
   ]
  },
  {
   "cell_type": "code",
   "execution_count": 90,
   "id": "68c091f5",
   "metadata": {},
   "outputs": [
    {
     "name": "stdout",
     "output_type": "stream",
     "text": [
      "Class conflicts with your schedule!\n"
     ]
    }
   ],
   "source": [
    "# Initialize variables\n",
    "class_full = False\n",
    "class_during_schedule = True\n",
    "\n",
    "# Test conflicts pertaining to class\n",
    "if class_full:\n",
    "    print(\"Class full, sorry!\")\n",
    "elif class_during_schedule:\n",
    "    print(\"Class conflicts with your schedule!\")\n",
    "else:\n",
    "    print(\"No problem!\")\n"
   ]
  },
  {
   "cell_type": "markdown",
   "id": "568302fb",
   "metadata": {},
   "source": [
    "7. A product offer can be applied only if a customer buys more than 2 items, and the offer has not expired. Premium members do not need to buy a specific amount of products."
   ]
  },
  {
   "cell_type": "code",
   "execution_count": null,
   "id": "bd812ef4",
   "metadata": {},
   "outputs": [],
   "source": [
    "status = 'Premium'"
   ]
  },
  {
   "cell_type": "markdown",
   "id": "62a04685",
   "metadata": {},
   "source": [
    "8. Use the following code to follow the instructions below:\n",
    "\n",
    "`username = 'codeup'\n",
    "password = 'notastrongpassword'`\n",
    "\n",
    "Create a variable that holds a boolean value for each of the following conditions:\n",
    "\n",
    "- The password must be at least 5 characters\n",
    "- The username must be no more than 20 characters\n",
    "- The password must not be the same as the username\n",
    "- **Bonus** Neither the username or password can start nor end with whitespace"
   ]
  },
  {
   "cell_type": "code",
   "execution_count": null,
   "id": "1eb1aac0",
   "metadata": {},
   "outputs": [],
   "source": []
  }
 ],
 "metadata": {
  "kernelspec": {
   "display_name": "Python 3 (ipykernel)",
   "language": "python",
   "name": "python3"
  },
  "language_info": {
   "codemirror_mode": {
    "name": "ipython",
    "version": 3
   },
   "file_extension": ".py",
   "mimetype": "text/x-python",
   "name": "python",
   "nbconvert_exporter": "python",
   "pygments_lexer": "ipython3",
   "version": "3.11.5"
  }
 },
 "nbformat": 4,
 "nbformat_minor": 5
}
