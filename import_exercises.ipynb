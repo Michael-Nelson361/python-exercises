{
 "cells": [
  {
   "cell_type": "markdown",
   "id": "b8ab9209",
   "metadata": {},
   "source": [
    "1c. Create a jupyter notebook named *import_exercises.ipynb*. Use *from* to import the *get_letter_grade* function and give it an alias. Test this function in your notebook."
   ]
  },
  {
   "cell_type": "code",
   "execution_count": 3,
   "id": "4cfc907d",
   "metadata": {},
   "outputs": [
    {
     "name": "stdout",
     "output_type": "stream",
     "text": [
      "B\n"
     ]
    }
   ],
   "source": [
    "from function_exercises import get_letter_grade as glg\n",
    "\n",
    "print(glg(80))"
   ]
  }
 ],
 "metadata": {
  "kernelspec": {
   "display_name": "Python 3 (ipykernel)",
   "language": "python",
   "name": "python3"
  },
  "language_info": {
   "codemirror_mode": {
    "name": "ipython",
    "version": 3
   },
   "file_extension": ".py",
   "mimetype": "text/x-python",
   "name": "python",
   "nbconvert_exporter": "python",
   "pygments_lexer": "ipython3",
   "version": "3.11.5"
  }
 },
 "nbformat": 4,
 "nbformat_minor": 5
}
