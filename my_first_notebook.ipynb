{
 "cells": [
  {
   "cell_type": "markdown",
   "id": "a7939014",
   "metadata": {},
   "source": [
    "You can use command+enter to run a cell!"
   ]
  },
  {
   "cell_type": "code",
   "execution_count": 3,
   "id": "63fb0cf8",
   "metadata": {},
   "outputs": [
    {
     "data": {
      "text/plain": [
       "'Hello, world!'"
      ]
     },
     "execution_count": 3,
     "metadata": {},
     "output_type": "execute_result"
    }
   ],
   "source": [
    "# Let's make a generic greeting.\n",
    "'Hello, world!'\n",
    "\n",
    "# Note that this will print the quotes as well!"
   ]
  },
  {
   "cell_type": "markdown",
   "id": "93988e27",
   "metadata": {},
   "source": [
    "'A' and 'B' (when not editing a cell) can create a cell above ('A') or below ('B'). Press ESC to exit editing a cell."
   ]
  },
  {
   "cell_type": "code",
   "execution_count": 4,
   "id": "a971bebe",
   "metadata": {},
   "outputs": [
    {
     "name": "stdout",
     "output_type": "stream",
     "text": [
      "Hello, world!\n"
     ]
    }
   ],
   "source": [
    "# Now do a proper print. This will NOT print the quotes!\n",
    "print('Hello, world!')"
   ]
  },
  {
   "cell_type": "markdown",
   "id": "18b2fc0e",
   "metadata": {},
   "source": [
    "To delete a focused cell, double tap 'D'! Keep in mind that this *will not* work if you're editing the cell!"
   ]
  },
  {
   "cell_type": "code",
   "execution_count": 6,
   "id": "ddf894a3",
   "metadata": {},
   "outputs": [
    {
     "data": {
      "text/plain": [
       "'Hello, world!'"
      ]
     },
     "execution_count": 6,
     "metadata": {},
     "output_type": "execute_result"
    }
   ],
   "source": [
    "# Let's make the greeting into a variable\n",
    "greeting = 'Hello, world!'\n",
    "\n",
    "greeting"
   ]
  }
 ],
 "metadata": {
  "kernelspec": {
   "display_name": "Python 3 (ipykernel)",
   "language": "python",
   "name": "python3"
  },
  "language_info": {
   "codemirror_mode": {
    "name": "ipython",
    "version": 3
   },
   "file_extension": ".py",
   "mimetype": "text/x-python",
   "name": "python",
   "nbconvert_exporter": "python",
   "pygments_lexer": "ipython3",
   "version": "3.11.5"
  }
 },
 "nbformat": 4,
 "nbformat_minor": 5
}
